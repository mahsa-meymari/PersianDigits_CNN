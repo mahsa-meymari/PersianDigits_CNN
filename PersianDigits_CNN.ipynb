{
  "nbformat": 4,
  "nbformat_minor": 0,
  "metadata": {
    "colab": {
      "name": "PresianDigits_CNN.ipynb",
      "provenance": [],
      "collapsed_sections": []
    },
    "kernelspec": {
      "name": "python3",
      "display_name": "Python 3"
    }
  },
  "cells": [
    {
      "cell_type": "markdown",
      "metadata": {
        "id": "KmS1REyyOSA_",
        "colab_type": "text"
      },
      "source": [
        "import some Prerequisites"
      ]
    },
    {
      "cell_type": "code",
      "metadata": {
        "id": "EhjBLQQKENnW",
        "colab_type": "code",
        "colab": {
          "base_uri": "https://localhost:8080/",
          "height": 34
        },
        "outputId": "1684a255-909a-47ce-f143-d8524b4f8680"
      },
      "source": [
        "from HodaDatasetReader import read_hoda_cdb\n",
        "from keras.models import Sequential,save_model,load_model,Model\n",
        "from keras.layers import Conv2D,Flatten,Dense,MaxPooling2D\n",
        "from matplotlib import pyplot as plt\n",
        "import cv2\n",
        "from keras.utils import to_categorical\n",
        "import numpy as np\n",
        "import random"
      ],
      "execution_count": 1,
      "outputs": [
        {
          "output_type": "stream",
          "text": [
            "Using TensorFlow backend.\n"
          ],
          "name": "stderr"
        }
      ]
    },
    {
      "cell_type": "markdown",
      "metadata": {
        "id": "bHJZNfFYOdfg",
        "colab_type": "text"
      },
      "source": [
        "load data"
      ]
    },
    {
      "cell_type": "code",
      "metadata": {
        "id": "XlrXHzL4KBo3",
        "colab_type": "code",
        "outputId": "17c316bc-5b98-4023-9d13-b83f7fffdf0b",
        "colab": {
          "base_uri": "https://localhost:8080/",
          "height": 68
        }
      },
      "source": [
        "print('Reading Test 20000.cdb ...')\n",
        "test_images, test_labels = read_hoda_cdb('Test 20000.cdb')\n",
        "print('Reading RemainingSamples.cdb ...')\n",
        "val_images, val_labels = read_hoda_cdb('./RemainingSamples.cdb')\n",
        "print('Reading Train 60000.cdb ...')\n",
        "train_images, train_labels = read_hoda_cdb('./Train 60000.cdb')"
      ],
      "execution_count": 2,
      "outputs": [
        {
          "output_type": "stream",
          "text": [
            "Reading Test 20000.cdb ...\n",
            "Reading RemainingSamples.cdb ...\n",
            "Reading Train 60000.cdb ...\n"
          ],
          "name": "stdout"
        }
      ]
    },
    {
      "cell_type": "markdown",
      "metadata": {
        "id": "-ERAkWLLOlGo",
        "colab_type": "text"
      },
      "source": [
        "modify data"
      ]
    },
    {
      "cell_type": "code",
      "metadata": {
        "id": "VDkdNNNgVbHG",
        "colab_type": "code",
        "colab": {}
      },
      "source": [
        "def prepareData(data):\n",
        "  temp =np.zeros((len(data),25,25))\n",
        "  i = 0\n",
        "  for i in range(len(data)):\n",
        "    temp[i] = np.resize(data[i],(25,25))\n",
        "    i+=1\n",
        "  temp/=255\n",
        "  temp = np.reshape(temp,(len(data),25,25,1))\n",
        "  return temp\n",
        "\n",
        "X_train = prepareData(train_images)\n",
        "X_test = prepareData(test_images)\n",
        "X_val = np.array(prepareData(val_images))\n",
        "\n",
        "y_test = to_categorical(test_labels)\n",
        "y_train = to_categorical(train_labels)\n",
        "y_val = to_categorical(val_labels)"
      ],
      "execution_count": 0,
      "outputs": []
    },
    {
      "cell_type": "markdown",
      "metadata": {
        "id": "0yZk0Q8xOHbG",
        "colab_type": "text"
      },
      "source": [
        "create model"
      ]
    },
    {
      "cell_type": "code",
      "metadata": {
        "id": "SJjWF3YwFOGz",
        "colab_type": "code",
        "outputId": "6e3b8386-419d-4463-9f88-bdfbcaa21076",
        "colab": {
          "base_uri": "https://localhost:8080/",
          "height": 323
        }
      },
      "source": [
        "def Create_model():\n",
        "  model = Sequential()\n",
        "  model.add(Conv2D(filters=32,kernel_size=(3,3),input_shape=(25,25,1),activation = 'relu'))\n",
        "  model.add(MaxPooling2D(pool_size =(2,2)))\n",
        "  model.add(Conv2D(filters=32,kernel_size=(3,3)))\n",
        "  model.add(Flatten())\n",
        "  model.add(Dense(10,activation = 'sigmoid'))\n",
        "  model.compile(optimizer = 'adam',loss = 'categorical_crossentropy',metrics = ['acc'])\n",
        "  model.summary()\n",
        "  return model\n",
        "model = Create_model()"
      ],
      "execution_count": 4,
      "outputs": [
        {
          "output_type": "stream",
          "text": [
            "Model: \"sequential_1\"\n",
            "_________________________________________________________________\n",
            "Layer (type)                 Output Shape              Param #   \n",
            "=================================================================\n",
            "conv2d_1 (Conv2D)            (None, 23, 23, 32)        320       \n",
            "_________________________________________________________________\n",
            "max_pooling2d_1 (MaxPooling2 (None, 11, 11, 32)        0         \n",
            "_________________________________________________________________\n",
            "conv2d_2 (Conv2D)            (None, 9, 9, 32)          9248      \n",
            "_________________________________________________________________\n",
            "flatten_1 (Flatten)          (None, 2592)              0         \n",
            "_________________________________________________________________\n",
            "dense_1 (Dense)              (None, 10)                25930     \n",
            "=================================================================\n",
            "Total params: 35,498\n",
            "Trainable params: 35,498\n",
            "Non-trainable params: 0\n",
            "_________________________________________________________________\n"
          ],
          "name": "stdout"
        }
      ]
    },
    {
      "cell_type": "markdown",
      "metadata": {
        "id": "pHELtyb9O04A",
        "colab_type": "text"
      },
      "source": [
        "train the model"
      ]
    },
    {
      "cell_type": "code",
      "metadata": {
        "id": "gmoZb13SFRbC",
        "colab_type": "code",
        "colab": {
          "base_uri": "https://localhost:8080/",
          "height": 394
        },
        "outputId": "ca9b2ed2-49f3-4e34-8cbe-bb968c2fde4e"
      },
      "source": [
        "history = model.fit(X_train,y_train,epochs = 10,validation_data=(X_val,y_val))"
      ],
      "execution_count": 5,
      "outputs": [
        {
          "output_type": "stream",
          "text": [
            "Train on 60000 samples, validate on 22352 samples\n",
            "Epoch 1/10\n",
            "60000/60000 [==============================] - 38s 626us/step - loss: 0.9030 - acc: 0.7040 - val_loss: 0.7578 - val_acc: 0.7540\n",
            "Epoch 2/10\n",
            "60000/60000 [==============================] - 38s 626us/step - loss: 0.5831 - acc: 0.8115 - val_loss: 0.6934 - val_acc: 0.7805\n",
            "Epoch 3/10\n",
            "60000/60000 [==============================] - 37s 612us/step - loss: 0.5079 - acc: 0.8355 - val_loss: 0.6727 - val_acc: 0.7785\n",
            "Epoch 4/10\n",
            "60000/60000 [==============================] - 37s 609us/step - loss: 0.4601 - acc: 0.8501 - val_loss: 0.6396 - val_acc: 0.7979\n",
            "Epoch 5/10\n",
            "60000/60000 [==============================] - 43s 708us/step - loss: 0.4262 - acc: 0.8607 - val_loss: 0.6129 - val_acc: 0.8075\n",
            "Epoch 6/10\n",
            "60000/60000 [==============================] - 36s 608us/step - loss: 0.4040 - acc: 0.8690 - val_loss: 0.6129 - val_acc: 0.8101\n",
            "Epoch 7/10\n",
            "60000/60000 [==============================] - 37s 611us/step - loss: 0.3805 - acc: 0.8753 - val_loss: 0.5988 - val_acc: 0.8137\n",
            "Epoch 8/10\n",
            "60000/60000 [==============================] - 38s 625us/step - loss: 0.3631 - acc: 0.8808 - val_loss: 0.5826 - val_acc: 0.8163\n",
            "Epoch 9/10\n",
            "60000/60000 [==============================] - 38s 626us/step - loss: 0.3490 - acc: 0.8844 - val_loss: 0.6102 - val_acc: 0.8124\n",
            "Epoch 10/10\n",
            "60000/60000 [==============================] - 38s 625us/step - loss: 0.3344 - acc: 0.8887 - val_loss: 0.6321 - val_acc: 0.8091\n"
          ],
          "name": "stdout"
        }
      ]
    },
    {
      "cell_type": "code",
      "metadata": {
        "id": "hqVpovfxUvX-",
        "colab_type": "code",
        "colab": {
          "base_uri": "https://localhost:8080/",
          "height": 545
        },
        "outputId": "bf8ca262-0c89-475c-e7ba-1f38762accd5"
      },
      "source": [
        "plt.plot(history.history['loss'])\n",
        "plt.plot(history.history['val_loss'])\n",
        "plt.title('loss')\n",
        "plt.show()\n",
        "plt.plot(history.history['acc'])\n",
        "plt.plot(history.history['val_acc'])\n",
        "plt.title('acc')\n",
        "plt.show()"
      ],
      "execution_count": 6,
      "outputs": [
        {
          "output_type": "display_data",
          "data": {
            "image/png": "[encoded data removed]",
            "text/plain": [
              "<Figure size 432x288 with 1 Axes>"
            ]
          },
          "metadata": {
            "tags": [],
            "needs_background": "light"
          }
        },
        {
          "output_type": "display_data",
          "data": {
            "image/png": "[encoded data removed]",
            "text/plain": [
              "<Figure size 432x288 with 1 Axes>"
            ]
          },
          "metadata": {
            "tags": [],
            "needs_background": "light"
          }
        }
      ]
    },
    {
      "cell_type": "markdown",
      "metadata": {
        "id": "viI999WYd6y9",
        "colab_type": "text"
      },
      "source": [
        "test the model"
      ]
    },
    {
      "cell_type": "code",
      "metadata": {
        "id": "pDa4PpsRd86r",
        "colab_type": "code",
        "colab": {
          "base_uri": "https://localhost:8080/",
          "height": 51
        },
        "outputId": "ea6b7e89-cb3d-47da-b5ae-e9da13f7700e"
      },
      "source": [
        "res = model.evaluate(X_test,y_test)\n",
        "print('loss = {} _ acc = {}'.format(res[0],res[1]))"
      ],
      "execution_count": 7,
      "outputs": [
        {
          "output_type": "stream",
          "text": [
            "20000/20000 [==============================] - 4s 185us/step\n",
            "loss = 0.7147213243983686 _ acc = 0.7850000262260437\n"
          ],
          "name": "stdout"
        }
      ]
    },
    {
      "cell_type": "markdown",
      "metadata": {
        "id": "a7rDNtqSZidn",
        "colab_type": "text"
      },
      "source": [
        "predict some numbers"
      ]
    },
    {
      "cell_type": "code",
      "metadata": {
        "id": "-QcV1PwAZVZw",
        "colab_type": "code",
        "colab": {
          "base_uri": "https://localhost:8080/",
          "height": 298
        },
        "outputId": "483688af-75e6-41b6-826e-39bb0ad86dd8"
      },
      "source": [
        "ind = random.randint(0,10000)\n",
        "pred = model.predict_classes(np.array([X_test[ind]]))\n",
        "plt.imshow(test_images[ind])\n",
        "plt.title('image')\n",
        "plt.show()\n",
        "\n",
        "print('predict result:{}  real result:{}'.format(pred[0],test_labels[ind]))"
      ],
      "execution_count": 8,
      "outputs": [
        {
          "output_type": "display_data",
          "data": {
            "image/png": "[encoded data removed]",
            "text/plain": [
              "<Figure size 432x288 with 1 Axes>"
            ]
          },
          "metadata": {
            "tags": [],
            "needs_background": "light"
          }
        },
        {
          "output_type": "stream",
          "text": [
            "predict result:4  real result:4\n"
          ],
          "name": "stdout"
        }
      ]
    },
    {
      "cell_type": "code",
      "metadata": {
        "id": "-W_myktthGrf",
        "colab_type": "code",
        "colab": {}
      },
      "source": [
        "save_model(model,'saved_model.hdf5')"
      ],
      "execution_count": 0,
      "outputs": []
    },
    {
      "cell_type": "markdown",
      "metadata": {
        "id": "IdploEa1nekd",
        "colab_type": "text"
      },
      "source": [
        "Inspecting the activations of second convolutional layer"
      ]
    },
    {
      "cell_type": "code",
      "metadata": {
        "id": "vqbAEscjndm4",
        "colab_type": "code",
        "colab": {
          "base_uri": "https://localhost:8080/",
          "height": 270
        },
        "outputId": "4cace716-8728-4cf8-a87a-e08c9c680552"
      },
      "source": [
        "first_layer_model = Model(model.input , model.layers[1].output)\n",
        "activation = first_layer_model.predict(np.array([X_test[ind]]))[0]\n",
        "fig=plt.figure()\n",
        "columns = 4\n",
        "rows = 8\n",
        "for i in range(1,32+1):\n",
        "  fig.add_subplot(columns,rows,i)\n",
        "  plt.imshow(activation[:,:,i-1] *255)\n",
        "  plt.title(i)\n",
        "plt.show()"
      ],
      "execution_count": 12,
      "outputs": [
        {
          "output_type": "display_data",
          "data": {
            "image/png": "[encoded data removed]",
            "text/plain": [
              "<Figure size 432x288 with 32 Axes>"
            ]
          },
          "metadata": {
            "tags": [],
            "needs_background": "light"
          }
        }
      ]
    }
  ]
}